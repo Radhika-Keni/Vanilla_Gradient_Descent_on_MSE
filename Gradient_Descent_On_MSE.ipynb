{
  "cells": [
    {
      "cell_type": "markdown",
      "metadata": {
        "id": "byKMPfb8U3u8"
      },
      "source": [
        "# Implement Vanilla Gradient Descent on MSE loss\n",
        "\n",
        "\n"
      ]
    },
    {
      "cell_type": "markdown",
      "metadata": {
        "id": "6JFQGIY6U3vC"
      },
      "source": [
        "### PROLOGUE: \n",
        "Gradient Descent is where the magic happens and this optimization algorithm is used in  many ML/DL algorithms such as Linear Regression, Logistic Regression , SVM & Neural Networks.We seldom have to implement this algorithm oursleves because the libraries implement it under the hood.\n",
        "\n",
        "Inspite of being a fundamental concept in ML , this has always been a daunting concept , especially for beginners. Theortically  it involves  Calculus and Vector Algebra but how does it all pan out in terms of code ? Implementing the  Gradient Descent algorithm helps one understand this algorithm at a granular level.\n",
        "\n"
      ]
    },
    {
      "cell_type": "markdown",
      "metadata": {
        "id": "CS6_oX1Y3zKC"
      },
      "source": [
        "### PROJECT OBJECTIVE: \n",
        "To implement Gradient Decsent on MSE Loss function from a neural network perspective\n"
      ]
    },
    {
      "cell_type": "markdown",
      "metadata": {
        "id": "1qqVfSfq_5sc"
      },
      "source": [
        "### CODE/SOLUTION SUMMARY\n",
        "We will be finding the best fit line on the given data set using Gradient Decsent i.e we will be implementing gradient decsent on the MSE loss function.Below is the step wise breakdown of the code\n",
        "- We will begin by manually creating a 2D data set & visualize the data set\n",
        "- Note here that at this point , we already know what the best fit line for this data looks like.\n",
        "- We will then implement Gradient Descent & see whether we can arrive at this best fit line through the gradient Descent algorithm\n",
        "- We start at random point and and iteratvely keep reducing the loss until we arrive at the best fit line\n",
        "- Cross vaidate whether the \"best fit\" line we arrived at through gradient decsnt is indeed the best fit line.\n",
        "- We will realize all the operations in matrix format because we are implemting this from a neural network perspective "
      ]
    },
    {
      "cell_type": "code",
      "execution_count": 176,
      "metadata": {
        "id": "Uowb8YX4U3vF"
      },
      "outputs": [],
      "source": [
        "# Import  libraries\n",
        "\n",
        "import matplotlib.pyplot as plt\n",
        "%matplotlib inline\n",
        "import pandas as pd\n",
        "import sys\n",
        "import numpy as np\n",
        "import seaborn as sns\n",
        "import statistics as stats\n",
        "sns.set(color_codes=True)\n",
        "from IPython.core.interactiveshell import InteractiveShell\n",
        "InteractiveShell.ast_node_interactivity = \"all\"\n",
        "#Last import allows multiple outputs from one cell\n",
        "import warnings\n",
        "# Initialize the random number generator\n",
        "import random\n",
        "random.seed(101)"
      ]
    },
    {
      "cell_type": "code",
      "execution_count": 177,
      "metadata": {
        "id": "dBurjaSqU3vF"
      },
      "outputs": [],
      "source": [
        "# Useful Configuration/Setting\n",
        "\n",
        "# suppress display of warnings\n",
        "warnings.filterwarnings('ignore')\n",
        "\n",
        "# display all dataframe columns\n",
        "pd.options.display.max_columns = None\n",
        "\n",
        "# to set the limit to 3 decimals\n",
        "pd.options.display.float_format = '{:.7f}'.format\n",
        "\n",
        "# display all dataframe rows\n",
        "pd.options.display.max_rows = None\n",
        "\n",
        "#Setting to shows all entries in array displayed\n",
        "np.set_printoptions(threshold=sys.maxsize)"
      ]
    },
    {
      "cell_type": "code",
      "source": [
        "# Lets create a  2 D data set manually\n",
        "\n",
        "X=np.arange(2,20,2)\n",
        "Y=2*X + 3"
      ],
      "metadata": {
        "id": "nWdktWFq85D6"
      },
      "execution_count": 178,
      "outputs": []
    },
    {
      "cell_type": "code",
      "source": [
        "X"
      ],
      "metadata": {
        "colab": {
          "base_uri": "https://localhost:8080/"
        },
        "id": "m1BORjKpe3pQ",
        "outputId": "135e25fc-3dc7-46fa-ec19-7d7ef194a35c"
      },
      "execution_count": 179,
      "outputs": [
        {
          "output_type": "execute_result",
          "data": {
            "text/plain": [
              "array([ 2,  4,  6,  8, 10, 12, 14, 16, 18])"
            ]
          },
          "metadata": {},
          "execution_count": 179
        }
      ]
    },
    {
      "cell_type": "code",
      "source": [
        "Y"
      ],
      "metadata": {
        "colab": {
          "base_uri": "https://localhost:8080/"
        },
        "id": "lCwTcHRQS0se",
        "outputId": "5fc35f67-d116-443b-9fb9-61934972a769"
      },
      "execution_count": 180,
      "outputs": [
        {
          "output_type": "execute_result",
          "data": {
            "text/plain": [
              "array([ 7, 11, 15, 19, 23, 27, 31, 35, 39])"
            ]
          },
          "metadata": {},
          "execution_count": 180
        }
      ]
    },
    {
      "cell_type": "code",
      "source": [
        "# Lets visualize the Actual Data Set\n",
        "\n",
        "plt.scatter(x=X,y=Y)\n",
        "plt.plot(X,Y,c='b')\n",
        "plt.show()"
      ],
      "metadata": {
        "colab": {
          "base_uri": "https://localhost:8080/",
          "height": 285
        },
        "id": "MkVJUVu-I4TS",
        "outputId": "3d05ff44-1ca9-4b21-9ee3-156561d43dc4"
      },
      "execution_count": 181,
      "outputs": [
        {
          "output_type": "execute_result",
          "data": {
            "text/plain": [
              "<matplotlib.collections.PathCollection at 0x7f7697a32c70>"
            ]
          },
          "metadata": {},
          "execution_count": 181
        },
        {
          "output_type": "execute_result",
          "data": {
            "text/plain": [
              "[<matplotlib.lines.Line2D at 0x7f76979be100>]"
            ]
          },
          "metadata": {},
          "execution_count": 181
        },
        {
          "output_type": "display_data",
          "data": {
            "text/plain": [
              "<Figure size 432x288 with 1 Axes>"
            ],
            "image/png": "[encoded data removed]"
          },
          "metadata": {}
        }
      ]
    },
    {
      "cell_type": "code",
      "source": [
        "# Cool , so we now know that the best fit line is y=2x+3 , because we created it \n",
        "# We could think of this as a toy data set because in reality we never data points that actually fall on one line .\n",
        "# However , for the objective of this notebook , its convenient.\n",
        "# We have plotted both the points and the line above \n",
        "# Lets see if gradient descent can arrive at the same line "
      ],
      "metadata": {
        "id": "5QedL6KaF-XZ"
      },
      "execution_count": 182,
      "outputs": []
    },
    {
      "cell_type": "code",
      "source": [
        "# Note :\n",
        "# Variables naming convention\n",
        "# We have used small letters for scalars and CAPS for Vectors"
      ],
      "metadata": {
        "id": "cArOCPopIYke"
      },
      "execution_count": 183,
      "outputs": []
    },
    {
      "cell_type": "code",
      "source": [
        "# Lets define our loss function \n",
        "\n",
        "def MSE(Y_True,Y_Pred):\n",
        "  loss=np.sum(np.square(Y_Pred-Y_True))/Y_True.shape[0]\n",
        "  return loss\n"
      ],
      "metadata": {
        "id": "YLfSUZlKzUS7"
      },
      "execution_count": 184,
      "outputs": []
    },
    {
      "cell_type": "code",
      "source": [
        "# Lets define our linear function\n",
        "def linearFunc(X,W):\n",
        "  Y=W[0]*X +  W[1]\n",
        "  return Y\n"
      ],
      "metadata": {
        "id": "gg7hJWkhHFly"
      },
      "execution_count": 185,
      "outputs": []
    },
    {
      "cell_type": "code",
      "source": [
        "# Start at a random weight\n",
        "W=np.ones(shape=2)\n",
        "W[0]=random.randint(5,10)\n",
        "W[1]=random.randint(5,10)"
      ],
      "metadata": {
        "id": "yo3eRcaII1vA"
      },
      "execution_count": 186,
      "outputs": []
    },
    {
      "cell_type": "code",
      "source": [
        "print(W[0])\n",
        "print(W[1])"
      ],
      "metadata": {
        "colab": {
          "base_uri": "https://localhost:8080/"
        },
        "id": "BrD3usdrPsu7",
        "outputId": "5de005aa-30a5-49cb-bec0-d1da06a3a856"
      },
      "execution_count": 187,
      "outputs": [
        {
          "output_type": "stream",
          "name": "stdout",
          "text": [
            "9.0\n",
            "6.0\n"
          ]
        }
      ]
    },
    {
      "cell_type": "code",
      "source": [
        "# Now we have some random weights , lets visualize what the predicted line ...\n",
        "# ... looks like with these weights agianst the actual line"
      ],
      "metadata": {
        "id": "fB0oRE3xpwhU"
      },
      "execution_count": 188,
      "outputs": []
    },
    {
      "cell_type": "code",
      "source": [
        "# Lets see what the line looks like at this point\n",
        "plt.plot(X,linearFunc(X,W),c='r')# predicted line in red\n",
        "plt.plot(X,Y,c='b')# actual line in blue"
      ],
      "metadata": {
        "colab": {
          "base_uri": "https://localhost:8080/",
          "height": 285
        },
        "id": "nPRpca9TJ039",
        "outputId": "49a83c7b-d44d-4d28-f623-0f5da98a757c"
      },
      "execution_count": 189,
      "outputs": [
        {
          "output_type": "execute_result",
          "data": {
            "text/plain": [
              "[<matplotlib.lines.Line2D at 0x7f7697991dc0>]"
            ]
          },
          "metadata": {},
          "execution_count": 189
        },
        {
          "output_type": "execute_result",
          "data": {
            "text/plain": [
              "[<matplotlib.lines.Line2D at 0x7f76979a1100>]"
            ]
          },
          "metadata": {},
          "execution_count": 189
        },
        {
          "output_type": "display_data",
          "data": {
            "text/plain": [
              "<Figure size 432x288 with 1 Axes>"
            ],
            "image/png": "[encoded data removed]"
          },
          "metadata": {}
        }
      ]
    },
    {
      "cell_type": "code",
      "source": [
        "# We can see the predicted line and actual line in the above"
      ],
      "metadata": {
        "id": "7cY4LZA8Tix7"
      },
      "execution_count": 190,
      "outputs": []
    },
    {
      "cell_type": "markdown",
      "metadata": {
        "id": "-rffGHiKzKtR"
      },
      "source": [
        "##  Calculate Derivatives"
      ]
    },
    {
      "cell_type": "markdown",
      "source": [
        "- We would need to calculate the partial derviatives of 'm' and c(y=mx+c) which we will use later in our code\n",
        "- The Derivates are calculated as below\n",
        "![image.png](data:image/png;base64,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)\n",
        "\n",
        "![image.png](data:image/png;base64,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)\n",
        "\n",
        "- Calculation of Derivatives above  referenced from https://towardsdatascience.com/linear-regression-using-gradient-descent-97a6c8700931 "
      ],
      "metadata": {
        "id": "mqdL7J2pt13s"
      }
    },
    {
      "cell_type": "markdown",
      "source": [
        "- In the above excerpt , we have seen how we calculate derivative  of each variable in the function seperately as these are partial derivatives\n",
        "- Now , take note that, we can represent the above in the form of a vector, this is merely a representation which will allow us to make computations easier for Neural Networks.\n",
        "- How is this applicable to Neuarl Networks ? Each node in a neural network is a linear function.\n",
        "- Since this a muti dimensional function , the derivative of such functions can be represented as a vector(where partial derivative of each variable will be one element), this is usually represented as a column vector in theory.\n",
        "- In our code , we will represent this as vector named grad which will basically comprise of 2 elements in this case\n",
        "- So Dc and Dm calculated above will be each element of that vector"
      ],
      "metadata": {
        "id": "Ux1d7O7usqBo"
      }
    },
    {
      "cell_type": "code",
      "source": [
        "# Lets write a func to calculate these gradients\n",
        "'''Make note that we will be calcuating gradient at different points on the loss function as we try to make ...\n",
        "our way to the minima for every combination of weighst(m & c) that we are at.\n",
        "Therefore the gradient function will take inputs as X(Input data points), Y(Actual Values), P(Predicted Values) and give us \n",
        "the corresponding gradients of 'm' and 'c' at that point '''\n",
        "\n",
        "def grad(X,Y,P):\n",
        "  '''Note here that we are going to realise this operation of calcuating gradient as one singly operation ...\n",
        "  insetad of doing seperately for m anc c. The final gradient will be a vector where one element corresponds to m ...\n",
        "  and one to c . So we will use the formula summation xi(y-yi) to calcuate both derivatives .Note only one of them had x into...\n",
        "  so just to make up for that we will add a dummy layer of 1's in the x part of that deriative which does not have x multiplied ...\n",
        "  with y-yi which for derivative of c because we canot do a multiplication op otherwise'''\n",
        "  \n",
        "  # add  a dummy layer of 1 's \n",
        "  X1=np.vstack((np.ones_like(X),X))\n",
        "\n",
        "  #calculate term in derivative which we will need later\n",
        "  E=P-Y\n",
        "\n",
        "  #calculate number of samples \n",
        "  N=np.shape(X)[0]\n",
        "\n",
        "  #Calculate gradient \n",
        "  G=-1/N*(X.dot(E))\n",
        "\n",
        "  return G"
      ],
      "metadata": {
        "id": "wWpj3Xi_03G9",
        "colab": {
          "base_uri": "https://localhost:8080/",
          "height": 70
        },
        "outputId": "3e5f740b-3e7a-4fc0-ce6d-73d3b6cc5d93"
      },
      "execution_count": 191,
      "outputs": [
        {
          "output_type": "execute_result",
          "data": {
            "text/plain": [
              "\"Make note that we will be calcuating gradient at different points on the loss function as we try to make ...\\nour way to the minima for every combination of weighst(m & c) that we are at.\\nTherefore the gradient function will take inputs as X(Input data points), Y(Actual Values), P(Predicted Values) and give us \\nthe corresponding gradients of 'm' and 'c' at that point \""
            ],
            "application/vnd.google.colaboratory.intrinsic+json": {
              "type": "string"
            }
          },
          "metadata": {},
          "execution_count": 191
        }
      ]
    },
    {
      "cell_type": "code",
      "source": [],
      "metadata": {
        "id": "ll2KKk2UngnN"
      },
      "execution_count": 191,
      "outputs": []
    },
    {
      "cell_type": "markdown",
      "metadata": {
        "id": "Lvtt3Evw03Ye"
      },
      "source": [
        "##  Implement Gradient Descent for 1 iteration"
      ]
    },
    {
      "cell_type": "code",
      "source": [
        "# We have already assigned an arbitrary value for weights (aka m and c here)\n",
        "print('W',W)\n",
        "\n",
        "#Lets also re-print our X,Y\n",
        "print('X',X) # input values\n",
        "print('Y',Y) # Actual Output\n",
        "\n",
        "#Alrighty, we are all set to proceed"
      ],
      "metadata": {
        "colab": {
          "base_uri": "https://localhost:8080/"
        },
        "id": "gUSGgX4tdKgW",
        "outputId": "22c65b24-edce-430f-ac94-a1ddba8a7863"
      },
      "execution_count": 192,
      "outputs": [
        {
          "output_type": "stream",
          "name": "stdout",
          "text": [
            "W [9. 6.]\n",
            "X [ 2  4  6  8 10 12 14 16 18]\n",
            "Y [ 7 11 15 19 23 27 31 35 39]\n"
          ]
        }
      ]
    },
    {
      "cell_type": "code",
      "source": [
        "# Lets use LR as 0.0001\n",
        "lr=0.001\n",
        "\n",
        "# Lets do one iteration and of GD and view results\n",
        "\n",
        "P=linearFunc(X,W)     #Prediction with current weights\n",
        "gradient=grad(X,Y,P)  #Calculate the gradient at this point\n",
        "\n",
        "#Lets update the weights \n",
        "W1=W + lr*gradient"
      ],
      "metadata": {
        "id": "37OSVPIG09Av"
      },
      "execution_count": 193,
      "outputs": []
    },
    {
      "cell_type": "code",
      "source": [
        "# Now lets plot orginal line , random line & line after first iteration in one graph\n",
        "\n",
        "# Lets see what the line looks like at this point\n",
        "plt.plot(X,linearFunc(X,W),c='r')# starting line in red\n",
        "plt.plot(X,linearFunc(X,W1),c='g')#  line after one iteration in green\n",
        "plt.plot(X,Y,c='b')# actual line in blue\n",
        "\n",
        "# Neat , we can see it took a tiny step towards the best fit line , lets proceed"
      ],
      "metadata": {
        "colab": {
          "base_uri": "https://localhost:8080/",
          "height": 303
        },
        "id": "XQXiQY2UlTN7",
        "outputId": "a6f99c2a-bea2-4e5c-da48-68fc7087931a"
      },
      "execution_count": 194,
      "outputs": [
        {
          "output_type": "execute_result",
          "data": {
            "text/plain": [
              "[<matplotlib.lines.Line2D at 0x7f7697903bb0>]"
            ]
          },
          "metadata": {},
          "execution_count": 194
        },
        {
          "output_type": "execute_result",
          "data": {
            "text/plain": [
              "[<matplotlib.lines.Line2D at 0x7f7697903f10>]"
            ]
          },
          "metadata": {},
          "execution_count": 194
        },
        {
          "output_type": "execute_result",
          "data": {
            "text/plain": [
              "[<matplotlib.lines.Line2D at 0x7f769790f400>]"
            ]
          },
          "metadata": {},
          "execution_count": 194
        },
        {
          "output_type": "display_data",
          "data": {
            "text/plain": [
              "<Figure size 432x288 with 1 Axes>"
            ],
            "image/png": "[encoded data removed]"
          },
          "metadata": {}
        }
      ]
    },
    {
      "cell_type": "code",
      "source": [],
      "metadata": {
        "id": "T12WQEFXmNAq"
      },
      "execution_count": 194,
      "outputs": []
    },
    {
      "cell_type": "code",
      "source": [],
      "metadata": {
        "id": "AkQOytKYpGSD"
      },
      "execution_count": 194,
      "outputs": []
    },
    {
      "cell_type": "markdown",
      "metadata": {
        "id": "F2gia3EDpG0i"
      },
      "source": [
        "##  Implement Gradient Descent in its entirity"
      ]
    },
    {
      "cell_type": "code",
      "source": [
        "# We have already assigned an arbitrary value for weights (aka m and c here)\n",
        "print('W',W)\n",
        "\n",
        "#Lets also re-print our X,Y\n",
        "print('X',X) # input values\n",
        "print('Y',Y) # Actual Output\n",
        "\n",
        "#Alrighty, we are all set to proceed"
      ],
      "metadata": {
        "colab": {
          "base_uri": "https://localhost:8080/"
        },
        "outputId": "4cdccfa4-66f3-45b1-cba4-2b542bb1e72a",
        "id": "Ywbh9T9opG0j"
      },
      "execution_count": 195,
      "outputs": [
        {
          "output_type": "stream",
          "name": "stdout",
          "text": [
            "W [9. 6.]\n",
            "X [ 2  4  6  8 10 12 14 16 18]\n",
            "Y [ 7 11 15 19 23 27 31 35 39]\n"
          ]
        }
      ]
    },
    {
      "cell_type": "code",
      "source": [
        "# Lets use LR as 0.0001\n",
        "lr=0.001\n",
        "totalIterCount=100 # Total no of iterations allowed\n",
        "itercount=0 #Current iteration number\n",
        "lossThresh=0.05\n",
        "deltaLoss=5  # Intially we set an arbitrary value greater than lossThresh\n",
        "P=linearFunc(X,W)\n",
        "initLoss=MSE(Y,P) # This is loss with current weights\n",
        "\n",
        "# Lets plot the actual line and initial line \n",
        "plt.plot(X,linearFunc(X,W),c='r')# starting line in red\n",
        "plt.plot(X,Y,c='b')# actual line in blue\n",
        "\n",
        "\n",
        "# We will now do multiple iterations\n",
        "# Stopping condition ? Either max iterations are reached or the loss is not reducing beyond a fixed threshold\n",
        "\n",
        "while(True):\n",
        "  if(itercount>=200):\n",
        "    break\n",
        "  if(deltaLoss <= lossThresh):\n",
        "    break\n",
        "  else:\n",
        "    W=W + lr*gradient\n",
        "    P=linearFunc(X,W)     #Prediction with current weights\n",
        "    gradient=grad(X,Y,P)  #Calculate the gradient at this point\n",
        "    currLoss=MSE(Y,P)     #Lets update the weights \n",
        "    print('currLoss',currLoss)\n",
        "    deltaLoss=initLoss-currLoss  # Calculate diff in loss\n",
        "    print('deltaLoss',deltaLoss)\n",
        "    initLoss=currLoss\n",
        "    itercount=itercount+1\n",
        "    plt.plot(X,linearFunc(X,W),c='g')#  line after one iteration in green\n",
        "\n"
      ],
      "metadata": {
        "colab": {
          "base_uri": "https://localhost:8080/",
          "height": 1000
        },
        "id": "sdCwImqopG0l",
        "outputId": "d0a2f310-603b-4075-b91e-a028f19607e9"
      },
      "execution_count": 196,
      "outputs": [
        {
          "output_type": "execute_result",
          "data": {
            "text/plain": [
              "[<matplotlib.lines.Line2D at 0x7f76978f2d30>]"
            ]
          },
          "metadata": {},
          "execution_count": 196
        },
        {
          "output_type": "execute_result",
          "data": {
            "text/plain": [
              "[<matplotlib.lines.Line2D at 0x7f76978bb820>]"
            ]
          },
          "metadata": {},
          "execution_count": 196
        },
        {
          "output_type": "stream",
          "name": "stdout",
          "text": [
            "currLoss 4945.358796296297\n",
            "deltaLoss 1690.3078703703695\n"
          ]
        },
        {
          "output_type": "execute_result",
          "data": {
            "text/plain": [
              "[<matplotlib.lines.Line2D at 0x7f7697889640>]"
            ]
          },
          "metadata": {},
          "execution_count": 196
        },
        {
          "output_type": "stream",
          "name": "stdout",
          "text": [
            "currLoss 3685.6660453446507\n",
            "deltaLoss 1259.6927509516468\n"
          ]
        },
        {
          "output_type": "execute_result",
          "data": {
            "text/plain": [
              "[<matplotlib.lines.Line2D at 0x7f7697889af0>]"
            ]
          },
          "metadata": {},
          "execution_count": 196
        },
        {
          "output_type": "stream",
          "name": "stdout",
          "text": [
            "currLoss 2746.9068079628155\n",
            "deltaLoss 938.7592373818352\n"
          ]
        },
        {
          "output_type": "execute_result",
          "data": {
            "text/plain": [
              "[<matplotlib.lines.Line2D at 0x7f7697889e50>]"
            ]
          },
          "metadata": {},
          "execution_count": 196
        },
        {
          "output_type": "stream",
          "name": "stdout",
          "text": [
            "currLoss 2047.333661935863\n",
            "deltaLoss 699.5731460269526\n"
          ]
        },
        {
          "output_type": "execute_result",
          "data": {
            "text/plain": [
              "[<matplotlib.lines.Line2D at 0x7f76978900d0>]"
            ]
          },
          "metadata": {},
          "execution_count": 196
        },
        {
          "output_type": "stream",
          "name": "stdout",
          "text": [
            "currLoss 1526.0193426710325\n",
            "deltaLoss 521.3143192648304\n"
          ]
        },
        {
          "output_type": "execute_result",
          "data": {
            "text/plain": [
              "[<matplotlib.lines.Line2D at 0x7f7697890580>]"
            ]
          },
          "metadata": {},
          "execution_count": 196
        },
        {
          "output_type": "stream",
          "name": "stdout",
          "text": [
            "currLoss 1137.5544023299867\n",
            "deltaLoss 388.4649403410458\n"
          ]
        },
        {
          "output_type": "execute_result",
          "data": {
            "text/plain": [
              "[<matplotlib.lines.Line2D at 0x7f76978908e0>]"
            ]
          },
          "metadata": {},
          "execution_count": 196
        },
        {
          "output_type": "stream",
          "name": "stdout",
          "text": [
            "currLoss 848.0951903689262\n",
            "deltaLoss 289.45921196106053\n"
          ]
        },
        {
          "output_type": "execute_result",
          "data": {
            "text/plain": [
              "[<matplotlib.lines.Line2D at 0x7f7697890c40>]"
            ]
          },
          "metadata": {},
          "execution_count": 196
        },
        {
          "output_type": "stream",
          "name": "stdout",
          "text": [
            "currLoss 632.418281688975\n",
            "deltaLoss 215.67690867995123\n"
          ]
        },
        {
          "output_type": "execute_result",
          "data": {
            "text/plain": [
              "[<matplotlib.lines.Line2D at 0x7f7697890fa0>]"
            ]
          },
          "metadata": {},
          "execution_count": 196
        },
        {
          "output_type": "stream",
          "name": "stdout",
          "text": [
            "currLoss 471.7250489219523\n",
            "deltaLoss 160.69323276702266\n"
          ]
        },
        {
          "output_type": "execute_result",
          "data": {
            "text/plain": [
              "[<matplotlib.lines.Line2D at 0x7f7697896340>]"
            ]
          },
          "metadata": {},
          "execution_count": 196
        },
        {
          "output_type": "stream",
          "name": "stdout",
          "text": [
            "currLoss 352.00534530038584\n",
            "deltaLoss 119.71970362156645\n"
          ]
        },
        {
          "output_type": "execute_result",
          "data": {
            "text/plain": [
              "[<matplotlib.lines.Line2D at 0x7f7697896520>]"
            ]
          },
          "metadata": {},
          "execution_count": 196
        },
        {
          "output_type": "stream",
          "name": "stdout",
          "text": [
            "currLoss 262.8179130235772\n",
            "deltaLoss 89.18743227680864\n"
          ]
        },
        {
          "output_type": "execute_result",
          "data": {
            "text/plain": [
              "[<matplotlib.lines.Line2D at 0x7f7697896a00>]"
            ]
          },
          "metadata": {},
          "execution_count": 196
        },
        {
          "output_type": "stream",
          "name": "stdout",
          "text": [
            "currLoss 196.38139179641846\n",
            "deltaLoss 66.43652122715875\n"
          ]
        },
        {
          "output_type": "execute_result",
          "data": {
            "text/plain": [
              "[<matplotlib.lines.Line2D at 0x7f7697896c10>]"
            ]
          },
          "metadata": {},
          "execution_count": 196
        },
        {
          "output_type": "stream",
          "name": "stdout",
          "text": [
            "currLoss 146.89682814843428\n",
            "deltaLoss 49.484563647984174\n"
          ]
        },
        {
          "output_type": "execute_result",
          "data": {
            "text/plain": [
              "[<matplotlib.lines.Line2D at 0x7f7697896f70>]"
            ]
          },
          "metadata": {},
          "execution_count": 196
        },
        {
          "output_type": "stream",
          "name": "stdout",
          "text": [
            "currLoss 110.04272969577002\n",
            "deltaLoss 36.85409845266426\n"
          ]
        },
        {
          "output_type": "execute_result",
          "data": {
            "text/plain": [
              "[<matplotlib.lines.Line2D at 0x7f76978a72e0>]"
            ]
          },
          "metadata": {},
          "execution_count": 196
        },
        {
          "output_type": "stream",
          "name": "stdout",
          "text": [
            "currLoss 82.59872233361028\n",
            "deltaLoss 27.444007362159738\n"
          ]
        },
        {
          "output_type": "execute_result",
          "data": {
            "text/plain": [
              "[<matplotlib.lines.Line2D at 0x7f76978a7790>]"
            ]
          },
          "metadata": {},
          "execution_count": 196
        },
        {
          "output_type": "stream",
          "name": "stdout",
          "text": [
            "currLoss 62.16505876362026\n",
            "deltaLoss 20.433663569990024\n"
          ]
        },
        {
          "output_type": "execute_result",
          "data": {
            "text/plain": [
              "[<matplotlib.lines.Line2D at 0x7f76978a79d0>]"
            ]
          },
          "metadata": {},
          "execution_count": 196
        },
        {
          "output_type": "stream",
          "name": "stdout",
          "text": [
            "currLoss 46.95356742984197\n",
            "deltaLoss 15.21149133377829\n"
          ]
        },
        {
          "output_type": "execute_result",
          "data": {
            "text/plain": [
              "[<matplotlib.lines.Line2D at 0x7f76978a7e80>]"
            ]
          },
          "metadata": {},
          "execution_count": 196
        },
        {
          "output_type": "stream",
          "name": "stdout",
          "text": [
            "currLoss 35.6318475675956\n",
            "deltaLoss 11.321719862246368\n"
          ]
        },
        {
          "output_type": "execute_result",
          "data": {
            "text/plain": [
              "[<matplotlib.lines.Line2D at 0x7f76978b70a0>]"
            ]
          },
          "metadata": {},
          "execution_count": 196
        },
        {
          "output_type": "stream",
          "name": "stdout",
          "text": [
            "currLoss 27.207149566817016\n",
            "deltaLoss 8.424698000778584\n"
          ]
        },
        {
          "output_type": "execute_result",
          "data": {
            "text/plain": [
              "[<matplotlib.lines.Line2D at 0x7f76978b7430>]"
            ]
          },
          "metadata": {},
          "execution_count": 196
        },
        {
          "output_type": "stream",
          "name": "stdout",
          "text": [
            "currLoss 20.939833372570135\n",
            "deltaLoss 6.267316194246881\n"
          ]
        },
        {
          "output_type": "execute_result",
          "data": {
            "text/plain": [
              "[<matplotlib.lines.Line2D at 0x7f76978b78e0>]"
            ]
          },
          "metadata": {},
          "execution_count": 196
        },
        {
          "output_type": "stream",
          "name": "stdout",
          "text": [
            "currLoss 16.27887168261056\n",
            "deltaLoss 4.660961689959574\n"
          ]
        },
        {
          "output_type": "execute_result",
          "data": {
            "text/plain": [
              "[<matplotlib.lines.Line2D at 0x7f76978b7b20>]"
            ]
          },
          "metadata": {},
          "execution_count": 196
        },
        {
          "output_type": "stream",
          "name": "stdout",
          "text": [
            "currLoss 12.813783223906603\n",
            "deltaLoss 3.465088458703958\n"
          ]
        },
        {
          "output_type": "execute_result",
          "data": {
            "text/plain": [
              "[<matplotlib.lines.Line2D at 0x7f76978b7fd0>]"
            ]
          },
          "metadata": {},
          "execution_count": 196
        },
        {
          "output_type": "stream",
          "name": "stdout",
          "text": [
            "currLoss 10.238811330546538\n",
            "deltaLoss 2.5749718933600647\n"
          ]
        },
        {
          "output_type": "execute_result",
          "data": {
            "text/plain": [
              "[<matplotlib.lines.Line2D at 0x7f76978b3370>]"
            ]
          },
          "metadata": {},
          "execution_count": 196
        },
        {
          "output_type": "stream",
          "name": "stdout",
          "text": [
            "currLoss 8.326228827098225\n",
            "deltaLoss 1.9125825034483128\n"
          ]
        },
        {
          "output_type": "execute_result",
          "data": {
            "text/plain": [
              "[<matplotlib.lines.Line2D at 0x7f76978b36d0>]"
            ]
          },
          "metadata": {},
          "execution_count": 196
        },
        {
          "output_type": "stream",
          "name": "stdout",
          "text": [
            "currLoss 6.906444581590896\n",
            "deltaLoss 1.419784245507329\n"
          ]
        },
        {
          "output_type": "execute_result",
          "data": {
            "text/plain": [
              "[<matplotlib.lines.Line2D at 0x7f76978b3a30>]"
            ]
          },
          "metadata": {},
          "execution_count": 196
        },
        {
          "output_type": "stream",
          "name": "stdout",
          "text": [
            "currLoss 5.853179151814625\n",
            "deltaLoss 1.0532654297762711\n"
          ]
        },
        {
          "output_type": "execute_result",
          "data": {
            "text/plain": [
              "[<matplotlib.lines.Line2D at 0x7f76978b3d90>]"
            ]
          },
          "metadata": {},
          "execution_count": 196
        },
        {
          "output_type": "stream",
          "name": "stdout",
          "text": [
            "currLoss 5.072418226238444\n",
            "deltaLoss 0.7807609255761809\n"
          ]
        },
        {
          "output_type": "execute_result",
          "data": {
            "text/plain": [
              "[<matplotlib.lines.Line2D at 0x7f76978b3fa0>]"
            ]
          },
          "metadata": {},
          "execution_count": 196
        },
        {
          "output_type": "stream",
          "name": "stdout",
          "text": [
            "currLoss 4.494181455446032\n",
            "deltaLoss 0.5782367707924116\n"
          ]
        },
        {
          "output_type": "execute_result",
          "data": {
            "text/plain": [
              "[<matplotlib.lines.Line2D at 0x7f7697841490>]"
            ]
          },
          "metadata": {},
          "execution_count": 196
        },
        {
          "output_type": "stream",
          "name": "stdout",
          "text": [
            "currLoss 4.066389401792447\n",
            "deltaLoss 0.42779205365358486\n"
          ]
        },
        {
          "output_type": "execute_result",
          "data": {
            "text/plain": [
              "[<matplotlib.lines.Line2D at 0x7f76978417f0>]"
            ]
          },
          "metadata": {},
          "execution_count": 196
        },
        {
          "output_type": "stream",
          "name": "stdout",
          "text": [
            "currLoss 3.7502940357468373\n",
            "deltaLoss 0.31609536604561006\n"
          ]
        },
        {
          "output_type": "execute_result",
          "data": {
            "text/plain": [
              "[<matplotlib.lines.Line2D at 0x7f7697841b50>]"
            ]
          },
          "metadata": {},
          "execution_count": 196
        },
        {
          "output_type": "stream",
          "name": "stdout",
          "text": [
            "currLoss 3.517074376454611\n",
            "deltaLoss 0.2332196592922262\n"
          ]
        },
        {
          "output_type": "execute_result",
          "data": {
            "text/plain": [
              "[<matplotlib.lines.Line2D at 0x7f7697841eb0>]"
            ]
          },
          "metadata": {},
          "execution_count": 196
        },
        {
          "output_type": "stream",
          "name": "stdout",
          "text": [
            "currLoss 3.3453003617908044\n",
            "deltaLoss 0.1717740146638067\n"
          ]
        },
        {
          "output_type": "execute_result",
          "data": {
            "text/plain": [
              "[<matplotlib.lines.Line2D at 0x7f76978580d0>]"
            ]
          },
          "metadata": {},
          "execution_count": 196
        },
        {
          "output_type": "stream",
          "name": "stdout",
          "text": [
            "currLoss 3.2190436720803604\n",
            "deltaLoss 0.12625668971044401\n"
          ]
        },
        {
          "output_type": "execute_result",
          "data": {
            "text/plain": [
              "[<matplotlib.lines.Line2D at 0x7f7697858430>]"
            ]
          },
          "metadata": {},
          "execution_count": 196
        },
        {
          "output_type": "stream",
          "name": "stdout",
          "text": [
            "currLoss 3.1264706048812667\n",
            "deltaLoss 0.09257306719909364\n"
          ]
        },
        {
          "output_type": "execute_result",
          "data": {
            "text/plain": [
              "[<matplotlib.lines.Line2D at 0x7f76978588e0>]"
            ]
          },
          "metadata": {},
          "execution_count": 196
        },
        {
          "output_type": "stream",
          "name": "stdout",
          "text": [
            "currLoss 3.0587941123995304\n",
            "deltaLoss 0.06767649248173635\n"
          ]
        },
        {
          "output_type": "execute_result",
          "data": {
            "text/plain": [
              "[<matplotlib.lines.Line2D at 0x7f7697858c40>]"
            ]
          },
          "metadata": {},
          "execution_count": 196
        },
        {
          "output_type": "stream",
          "name": "stdout",
          "text": [
            "currLoss 3.0094934252914958\n",
            "deltaLoss 0.04930068710803459\n"
          ]
        },
        {
          "output_type": "execute_result",
          "data": {
            "text/plain": [
              "[<matplotlib.lines.Line2D at 0x7f7697858e80>]"
            ]
          },
          "metadata": {},
          "execution_count": 196
        },
        {
          "output_type": "display_data",
          "data": {
            "text/plain": [
              "<Figure size 432x288 with 1 Axes>"
            ],
            "image/png": "[encoded data removed]"
          },
          "metadata": {}
        }
      ]
    },
    {
      "cell_type": "markdown",
      "metadata": {
        "id": "IPi2sxgYIQYk"
      },
      "source": [
        "##  Result\n",
        "- As can be seen in the graph above , the gradient descent algorithm was able to reach the best fit line through an iterative process\n",
        "- Each green line indicates one iteration\n",
        "- Vanilla Gradient descent took 36 iterations to reach the best fit line i.e minima of the loss curve\n",
        "- In future notebooks we can exploer how adding momentum to gradient descent can help with faster convergence "
      ]
    },
    {
      "cell_type": "code",
      "source": [
        "currLoss"
      ],
      "metadata": {
        "id": "5Z2VLONwVRri",
        "outputId": "820a9c5f-03a6-41af-b41a-cf05fd75478c",
        "colab": {
          "base_uri": "https://localhost:8080/"
        }
      },
      "execution_count": 197,
      "outputs": [
        {
          "output_type": "execute_result",
          "data": {
            "text/plain": [
              "3.0094934252914958"
            ]
          },
          "metadata": {},
          "execution_count": 197
        }
      ]
    },
    {
      "cell_type": "code",
      "source": [
        "deltaLoss"
      ],
      "metadata": {
        "colab": {
          "base_uri": "https://localhost:8080/"
        },
        "id": "xlG2Tw8bQBR3",
        "outputId": "e07a2a6a-1b09-4e23-bc06-46162e39cead"
      },
      "execution_count": 198,
      "outputs": [
        {
          "output_type": "execute_result",
          "data": {
            "text/plain": [
              "0.04930068710803459"
            ]
          },
          "metadata": {},
          "execution_count": 198
        }
      ]
    },
    {
      "cell_type": "code",
      "source": [
        "itercount"
      ],
      "metadata": {
        "colab": {
          "base_uri": "https://localhost:8080/"
        },
        "id": "vRc0BjgEQFAr",
        "outputId": "c27acbdd-7bf3-4d81-e0f9-1a12d613f961"
      },
      "execution_count": 199,
      "outputs": [
        {
          "output_type": "execute_result",
          "data": {
            "text/plain": [
              "36"
            ]
          },
          "metadata": {},
          "execution_count": 199
        }
      ]
    },
    {
      "cell_type": "code",
      "source": [
        "W"
      ],
      "metadata": {
        "id": "d81pS-J8VQV6",
        "outputId": "71defcd0-b01b-4702-f0e2-e627b9ead453",
        "colab": {
          "base_uri": "https://localhost:8080/"
        }
      },
      "execution_count": 200,
      "outputs": [
        {
          "output_type": "execute_result",
          "data": {
            "text/plain": [
              "array([ 2.32648748, -0.67351252])"
            ]
          },
          "metadata": {},
          "execution_count": 200
        }
      ]
    },
    {
      "cell_type": "markdown",
      "metadata": {
        "id": "wVdJL6N8L34A"
      },
      "source": [
        "##  References\n",
        "- The following references were used while creating this notebook:\n",
        "\n",
        "- https://towardsdatascience.com/linear-regression-using-gradient-descent-97a6c8700931 by Adarsh Menon\n",
        "\n",
        "- Post Graduation AI/ML Study Material by GL/UAT\n"
      ]
    }
  ],
  "metadata": {
    "colab": {
      "provenance": [],
      "toc_visible": true
    },
    "kernelspec": {
      "display_name": "Python 3",
      "language": "python",
      "name": "python3"
    },
    "language_info": {
      "codemirror_mode": {
        "name": "ipython",
        "version": 3
      },
      "file_extension": ".py",
      "mimetype": "text/x-python",
      "name": "python",
      "nbconvert_exporter": "python",
      "pygments_lexer": "ipython3",
      "version": "3.8.3"
    },
    "gpuClass": "standard"
  },
  "nbformat": 4,
  "nbformat_minor": 0
}